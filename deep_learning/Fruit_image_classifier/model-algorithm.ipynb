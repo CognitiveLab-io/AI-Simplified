{
 "cells": [
  {
   "cell_type": "code",
   "execution_count": null,
   "metadata": {},
   "outputs": [],
   "source": [
    "import numpy as np\n",
    "import pandas as pd \n",
    "import sklearn \n",
    "import os\n",
    "import cv2\n",
    "import matplotlib.pyplot as plt\n",
    "import tensorflow as tf\n",
    "from sklearn.utils import shuffle"
   ]
  },
  {
   "cell_type": "code",
   "execution_count": null,
   "metadata": {},
   "outputs": [],
   "source": [
    "X=[]\n",
    "Y=[]\n",
    "image_size=255\n",
    "labels=['apple fruit','banana fruit','cherry fruit','chickoo fruit','grapes fruit','kiwi fruit','mango fruit','orange fruit','strawberry fruit']\n",
    "\n",
    "for i in labels:\n",
    "    folderPath = os.path.join('/content/drive/MyDrive/machine learning/Fruit Classification/images',i)\n",
    "    for j in os.listdir(folderPath):\n",
    "      check=(os.path.join(folderPath,j)).split('.')[-1]\n",
    "      if check=='jpg':\n",
    "        img = cv2.imread(os.path.join(folderPath,j))\n",
    "        gray_image = cv2.cvtColor(img, cv2.COLOR_BGR2GRAY)\n",
    "        gray_image = cv2.resize(gray_image,(image_size,image_size))\n",
    "        X.append(gray_image)\n",
    "        Y.append(i)\n",
    "      else:\n",
    "        continue\n",
    "        \n",
    "X=np.array(X)\n",
    "Y=np.array(Y)\n",
    "X,Y = shuffle(X,Y,random_state=42)\n",
    "X.shape\n",
    "\n"
   ]
  },
  {
   "cell_type": "code",
   "execution_count": null,
   "metadata": {},
   "outputs": [],
   "source": [
    "from sklearn.model_selection import  train_test_split\n",
    "X_train,X_test,Y_train,Y_test = train_test_split(X,Y,test_size=0.1,random_state=101)"
   ]
  },
  {
   "cell_type": "code",
   "execution_count": null,
   "metadata": {},
   "outputs": [],
   "source": [
    "Y_train_new = []\n",
    "for i in Y_train:\n",
    "    Y_train_new.append(labels.index(i))\n",
    "Y_train=Y_train_new\n",
    "Y_train = tf.keras.utils.to_categorical(Y_train)\n",
    "\n",
    "Y_test_new = []\n",
    "for i in Y_test:\n",
    "    Y_test_new.append(labels.index(i))\n",
    "Y_test=Y_test_new\n",
    "Y_test = tf.keras.utils.to_categorical(Y_test)\n"
   ]
  },
  {
   "cell_type": "code",
   "execution_count": null,
   "metadata": {},
   "outputs": [],
   "source": [
    "X_train=X_train/255\n",
    "X_test=X_test/255\n",
    "\n",
    "\n",
    "X_train.shape\n"
   ]
  },
  {
   "cell_type": "code",
   "execution_count": null,
   "metadata": {},
   "outputs": [],
   "source": [
    "Y_train.shape"
   ]
  },
  {
   "cell_type": "code",
   "execution_count": null,
   "metadata": {},
   "outputs": [],
   "source": [
    "model=tf.keras.Sequential([\n",
    "    tf.keras.layers.Flatten(input_shape=(255,255)),\n",
    "    tf.keras.layers.Dense(2000,activation='relu'),\n",
    "     tf.keras.layers.Dense(500,activation='relu'),\n",
    "      tf.keras.layers.Dense(250,activation='ELU'),\n",
    "       tf.keras.layers.Dense(120,activation='relu'),\n",
    "       tf.keras.layers.Dense(60,activation='relu'),\n",
    "      tf.keras.layers.Dense(30,activation='PReLU'),\n",
    "      tf.keras.layers.Dense(15,activation='ELU'),\n",
    "       tf.keras.layers.Dense(12,activation='PReLU'),\n",
    "       tf.keras.layers.Dense(10,activation='relu'),\n",
    "     tf.keras.layers.Dense(9,activation='sigmoid')\n",
    "\n",
    "])\n",
    "model.compile(optimizer='adam',\n",
    "loss='sparse_categorical_crossentropy',\n",
    "metrics=['accuracy']\n",
    ")\n",
    "model.fit(np.array(X_train),np.array(Y_train_new),epochs=410)"
   ]
  },
  {
   "cell_type": "code",
   "execution_count": null,
   "metadata": {},
   "outputs": [],
   "source": [
    "model.evaluate(np.array(X_test),np.array(Y_test_new))"
   ]
  },
  {
   "cell_type": "code",
   "execution_count": null,
   "metadata": {},
   "outputs": [],
   "source": [
    "import joblib\n",
    "joblib.dump(model,\"trained-model.pkl\")"
   ]
  }
 ],
 "metadata": {
  "language_info": {
   "name": "python"
  },
  "orig_nbformat": 4
 },
 "nbformat": 4,
 "nbformat_minor": 2
}
