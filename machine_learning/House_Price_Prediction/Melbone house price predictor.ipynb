{
 "cells": [
  {
   "cell_type": "markdown",
   "id": "200952bd",
   "metadata": {},
   "source": [
    "# i. inporting libraries"
   ]
  },
  {
   "cell_type": "code",
   "execution_count": null,
   "id": "ea5c26e9",
   "metadata": {},
   "outputs": [],
   "source": [
    "import numpy as np\n",
    "import pandas as pd\n",
    "import matplotlib.pyplot as plt\n",
    "import seaborn as sns\n",
    "from sklearn import metrics\n",
    "import warnings\n",
    "warnings.filterwarnings('ignore')"
   ]
  },
  {
   "cell_type": "markdown",
   "id": "e76c19bf",
   "metadata": {},
   "source": [
    "# ii. importing file"
   ]
  },
  {
   "cell_type": "code",
   "execution_count": 41,
   "id": "3a8bf105",
   "metadata": {},
   "outputs": [],
   "source": [
    "df=pd.read_csv(\"MELBOURNE_HOUSE_PRICES_LESS.csv\")"
   ]
  },
  {
   "cell_type": "code",
   "execution_count": 2,
   "id": "8afb39d0",
   "metadata": {},
   "outputs": [
    {
     "data": {
      "text/html": [
       "<div>\n",
       "<style scoped>\n",
       "    .dataframe tbody tr th:only-of-type {\n",
       "        vertical-align: middle;\n",
       "    }\n",
       "\n",
       "    .dataframe tbody tr th {\n",
       "        vertical-align: top;\n",
       "    }\n",
       "\n",
       "    .dataframe thead th {\n",
       "        text-align: right;\n",
       "    }\n",
       "</style>\n",
       "<table border=\"1\" class=\"dataframe\">\n",
       "  <thead>\n",
       "    <tr style=\"text-align: right;\">\n",
       "      <th></th>\n",
       "      <th>Suburb</th>\n",
       "      <th>Address</th>\n",
       "      <th>Rooms</th>\n",
       "      <th>Type</th>\n",
       "      <th>Price</th>\n",
       "      <th>Method</th>\n",
       "      <th>SellerG</th>\n",
       "      <th>Date</th>\n",
       "      <th>Postcode</th>\n",
       "      <th>Regionname</th>\n",
       "      <th>Propertycount</th>\n",
       "      <th>Distance</th>\n",
       "      <th>CouncilArea</th>\n",
       "    </tr>\n",
       "  </thead>\n",
       "  <tbody>\n",
       "    <tr>\n",
       "      <th>0</th>\n",
       "      <td>Abbotsford</td>\n",
       "      <td>49 Lithgow St</td>\n",
       "      <td>3</td>\n",
       "      <td>h</td>\n",
       "      <td>1490000.0</td>\n",
       "      <td>S</td>\n",
       "      <td>Jellis</td>\n",
       "      <td>1/04/2017</td>\n",
       "      <td>3067</td>\n",
       "      <td>Northern Metropolitan</td>\n",
       "      <td>4019</td>\n",
       "      <td>3.0</td>\n",
       "      <td>Yarra City Council</td>\n",
       "    </tr>\n",
       "    <tr>\n",
       "      <th>1</th>\n",
       "      <td>Abbotsford</td>\n",
       "      <td>59A Turner St</td>\n",
       "      <td>3</td>\n",
       "      <td>h</td>\n",
       "      <td>1220000.0</td>\n",
       "      <td>S</td>\n",
       "      <td>Marshall</td>\n",
       "      <td>1/04/2017</td>\n",
       "      <td>3067</td>\n",
       "      <td>Northern Metropolitan</td>\n",
       "      <td>4019</td>\n",
       "      <td>3.0</td>\n",
       "      <td>Yarra City Council</td>\n",
       "    </tr>\n",
       "    <tr>\n",
       "      <th>2</th>\n",
       "      <td>Abbotsford</td>\n",
       "      <td>119B Yarra St</td>\n",
       "      <td>3</td>\n",
       "      <td>h</td>\n",
       "      <td>1420000.0</td>\n",
       "      <td>S</td>\n",
       "      <td>Nelson</td>\n",
       "      <td>1/04/2017</td>\n",
       "      <td>3067</td>\n",
       "      <td>Northern Metropolitan</td>\n",
       "      <td>4019</td>\n",
       "      <td>3.0</td>\n",
       "      <td>Yarra City Council</td>\n",
       "    </tr>\n",
       "    <tr>\n",
       "      <th>3</th>\n",
       "      <td>Aberfeldie</td>\n",
       "      <td>68 Vida St</td>\n",
       "      <td>3</td>\n",
       "      <td>h</td>\n",
       "      <td>1515000.0</td>\n",
       "      <td>S</td>\n",
       "      <td>Barry</td>\n",
       "      <td>1/04/2017</td>\n",
       "      <td>3040</td>\n",
       "      <td>Western Metropolitan</td>\n",
       "      <td>1543</td>\n",
       "      <td>7.5</td>\n",
       "      <td>Moonee Valley City Council</td>\n",
       "    </tr>\n",
       "    <tr>\n",
       "      <th>4</th>\n",
       "      <td>Airport West</td>\n",
       "      <td>92 Clydesdale Rd</td>\n",
       "      <td>2</td>\n",
       "      <td>h</td>\n",
       "      <td>670000.0</td>\n",
       "      <td>S</td>\n",
       "      <td>Nelson</td>\n",
       "      <td>1/04/2017</td>\n",
       "      <td>3042</td>\n",
       "      <td>Western Metropolitan</td>\n",
       "      <td>3464</td>\n",
       "      <td>10.4</td>\n",
       "      <td>Moonee Valley City Council</td>\n",
       "    </tr>\n",
       "  </tbody>\n",
       "</table>\n",
       "</div>"
      ],
      "text/plain": [
       "         Suburb           Address  Rooms Type      Price Method   SellerG  \\\n",
       "0    Abbotsford     49 Lithgow St      3    h  1490000.0      S    Jellis   \n",
       "1    Abbotsford     59A Turner St      3    h  1220000.0      S  Marshall   \n",
       "2    Abbotsford     119B Yarra St      3    h  1420000.0      S    Nelson   \n",
       "3    Aberfeldie        68 Vida St      3    h  1515000.0      S     Barry   \n",
       "4  Airport West  92 Clydesdale Rd      2    h   670000.0      S    Nelson   \n",
       "\n",
       "        Date  Postcode             Regionname  Propertycount  Distance  \\\n",
       "0  1/04/2017      3067  Northern Metropolitan           4019       3.0   \n",
       "1  1/04/2017      3067  Northern Metropolitan           4019       3.0   \n",
       "2  1/04/2017      3067  Northern Metropolitan           4019       3.0   \n",
       "3  1/04/2017      3040   Western Metropolitan           1543       7.5   \n",
       "4  1/04/2017      3042   Western Metropolitan           3464      10.4   \n",
       "\n",
       "                  CouncilArea  \n",
       "0          Yarra City Council  \n",
       "1          Yarra City Council  \n",
       "2          Yarra City Council  \n",
       "3  Moonee Valley City Council  \n",
       "4  Moonee Valley City Council  "
      ]
     },
     "execution_count": 2,
     "metadata": {},
     "output_type": "execute_result"
    }
   ],
   "source": [
    "df.head()"
   ]
  },
  {
   "cell_type": "markdown",
   "id": "b30e0d61",
   "metadata": {},
   "source": [
    "# iii. Understand our dataset"
   ]
  },
  {
   "cell_type": "code",
   "execution_count": 3,
   "id": "3d768261",
   "metadata": {},
   "outputs": [
    {
     "data": {
      "text/html": [
       "<div>\n",
       "<style scoped>\n",
       "    .dataframe tbody tr th:only-of-type {\n",
       "        vertical-align: middle;\n",
       "    }\n",
       "\n",
       "    .dataframe tbody tr th {\n",
       "        vertical-align: top;\n",
       "    }\n",
       "\n",
       "    .dataframe thead th {\n",
       "        text-align: right;\n",
       "    }\n",
       "</style>\n",
       "<table border=\"1\" class=\"dataframe\">\n",
       "  <thead>\n",
       "    <tr style=\"text-align: right;\">\n",
       "      <th></th>\n",
       "      <th>Rooms</th>\n",
       "      <th>Price</th>\n",
       "      <th>Postcode</th>\n",
       "      <th>Propertycount</th>\n",
       "      <th>Distance</th>\n",
       "    </tr>\n",
       "  </thead>\n",
       "  <tbody>\n",
       "    <tr>\n",
       "      <th>count</th>\n",
       "      <td>63023.000000</td>\n",
       "      <td>4.843300e+04</td>\n",
       "      <td>63023.000000</td>\n",
       "      <td>63023.000000</td>\n",
       "      <td>63023.000000</td>\n",
       "    </tr>\n",
       "    <tr>\n",
       "      <th>mean</th>\n",
       "      <td>3.110595</td>\n",
       "      <td>9.978982e+05</td>\n",
       "      <td>3125.673897</td>\n",
       "      <td>7617.728131</td>\n",
       "      <td>12.684829</td>\n",
       "    </tr>\n",
       "    <tr>\n",
       "      <th>std</th>\n",
       "      <td>0.957551</td>\n",
       "      <td>5.934989e+05</td>\n",
       "      <td>125.626877</td>\n",
       "      <td>4424.423167</td>\n",
       "      <td>7.592015</td>\n",
       "    </tr>\n",
       "    <tr>\n",
       "      <th>min</th>\n",
       "      <td>1.000000</td>\n",
       "      <td>8.500000e+04</td>\n",
       "      <td>3000.000000</td>\n",
       "      <td>39.000000</td>\n",
       "      <td>0.000000</td>\n",
       "    </tr>\n",
       "    <tr>\n",
       "      <th>25%</th>\n",
       "      <td>3.000000</td>\n",
       "      <td>6.200000e+05</td>\n",
       "      <td>3056.000000</td>\n",
       "      <td>4380.000000</td>\n",
       "      <td>7.000000</td>\n",
       "    </tr>\n",
       "    <tr>\n",
       "      <th>50%</th>\n",
       "      <td>3.000000</td>\n",
       "      <td>8.300000e+05</td>\n",
       "      <td>3107.000000</td>\n",
       "      <td>6795.000000</td>\n",
       "      <td>11.400000</td>\n",
       "    </tr>\n",
       "    <tr>\n",
       "      <th>75%</th>\n",
       "      <td>4.000000</td>\n",
       "      <td>1.220000e+06</td>\n",
       "      <td>3163.000000</td>\n",
       "      <td>10412.000000</td>\n",
       "      <td>16.700000</td>\n",
       "    </tr>\n",
       "    <tr>\n",
       "      <th>max</th>\n",
       "      <td>31.000000</td>\n",
       "      <td>1.120000e+07</td>\n",
       "      <td>3980.000000</td>\n",
       "      <td>21650.000000</td>\n",
       "      <td>64.100000</td>\n",
       "    </tr>\n",
       "  </tbody>\n",
       "</table>\n",
       "</div>"
      ],
      "text/plain": [
       "              Rooms         Price      Postcode  Propertycount      Distance\n",
       "count  63023.000000  4.843300e+04  63023.000000   63023.000000  63023.000000\n",
       "mean       3.110595  9.978982e+05   3125.673897    7617.728131     12.684829\n",
       "std        0.957551  5.934989e+05    125.626877    4424.423167      7.592015\n",
       "min        1.000000  8.500000e+04   3000.000000      39.000000      0.000000\n",
       "25%        3.000000  6.200000e+05   3056.000000    4380.000000      7.000000\n",
       "50%        3.000000  8.300000e+05   3107.000000    6795.000000     11.400000\n",
       "75%        4.000000  1.220000e+06   3163.000000   10412.000000     16.700000\n",
       "max       31.000000  1.120000e+07   3980.000000   21650.000000     64.100000"
      ]
     },
     "execution_count": 3,
     "metadata": {},
     "output_type": "execute_result"
    }
   ],
   "source": [
    "df.describe()"
   ]
  },
  {
   "cell_type": "code",
   "execution_count": 4,
   "id": "d3e63eab",
   "metadata": {},
   "outputs": [
    {
     "data": {
      "text/plain": [
       "array(['h', 't', 'u'], dtype=object)"
      ]
     },
     "execution_count": 4,
     "metadata": {},
     "output_type": "execute_result"
    }
   ],
   "source": [
    "df['Type'].unique()"
   ]
  },
  {
   "cell_type": "code",
   "execution_count": 5,
   "id": "1b04113d",
   "metadata": {},
   "outputs": [
    {
     "data": {
      "text/plain": [
       "array(['Abbotsford', 'Aberfeldie', 'Airport West', 'Albanvale',\n",
       "       'Albert Park', 'Albion', 'Alphington', 'Altona', 'Altona Meadows',\n",
       "       'Altona North', 'Armadale', 'Ascot Vale', 'Ashburton', 'Ashwood',\n",
       "       'Aspendale', 'Aspendale Gardens', 'Attwood', 'Avondale Heights',\n",
       "       'Balwyn', 'Balwyn North', 'Bayswater North', 'Beaumaris',\n",
       "       'Bellfield', 'Bentleigh', 'Bentleigh East', 'Black Rock',\n",
       "       'Blackburn', 'Blackburn North', 'Blackburn South', 'Bonbeach',\n",
       "       'Boronia', 'Box Hill', 'Braybrook', 'Brighton', 'Brighton East',\n",
       "       'Broadmeadows', 'Brunswick', 'Brunswick East', 'Brunswick West',\n",
       "       'Bulleen', 'Bundoora', 'Burwood', 'Burwood East', 'Camberwell',\n",
       "       'Canterbury', 'Carlton', 'Carlton North', 'Carnegie',\n",
       "       'Caroline Springs', 'Carrum', 'Carrum Downs', 'Caulfield East',\n",
       "       'Caulfield North', 'Caulfield South', 'Chadstone', 'Chelsea',\n",
       "       'Cheltenham', 'Chintin', 'Clayton', 'Clayton South',\n",
       "       'Clifton Hill', 'Coburg', 'Coburg North', 'Collingwood',\n",
       "       'Craigieburn', 'Cranbourne', 'Cranbourne North', 'Croydon',\n",
       "       'Dallas', 'Dandenong', 'Dandenong North', 'Darley', 'Deepdene',\n",
       "       'Deer Park', 'Delahey', 'Diamond Creek', 'Dingley Village',\n",
       "       'Doncaster', 'Doncaster East', 'Donvale', 'Eaglemont',\n",
       "       'East Melbourne', 'Edithvale', 'Elsternwick', 'Eltham',\n",
       "       'Eltham North', 'Elwood', 'Endeavour Hills', 'Epping', 'Essendon',\n",
       "       'Essendon North', 'Essendon West', 'Fairfield', 'Fawkner',\n",
       "       'Ferntree Gully', 'Fitzroy', 'Fitzroy North', 'Footscray',\n",
       "       'Forest Hill', 'Frankston', 'Frankston North', 'Frankston South',\n",
       "       'Gladstone Park', 'Glen Iris', 'Glen Waverley', 'Glenroy',\n",
       "       'Gowanbrae', 'Greensborough', 'Greenvale', 'Hadfield', 'Hampton',\n",
       "       'Hawthorn', 'Heathmont', 'Heidelberg', 'Heidelberg Heights',\n",
       "       'Heidelberg West', 'Highett', 'Hillside', 'Hoppers Crossing',\n",
       "       'Hughesdale', 'Huntingdale', 'Ivanhoe', 'Ivanhoe East', 'Jacana',\n",
       "       'Keilor Downs', 'Keilor East', 'Kensington', 'Kew', 'Kew East',\n",
       "       'Keysborough', 'Kingsville', 'Knoxfield', 'Kurunjang', 'Lalor',\n",
       "       'Lilydale', 'MacLeod', 'Maidstone', 'Malvern', 'Malvern East',\n",
       "       'Maribyrnong', 'McKinnon', 'Meadow Heights', 'Melbourne', 'Melton',\n",
       "       'Mentone', 'Mernda', 'Middle Park', 'Mill Park', 'Mitcham',\n",
       "       'Montmorency', 'Moonee Ponds', 'Moorabbin', 'Mooroolbark',\n",
       "       'Mordialloc', 'Mount Waverley', 'Mulgrave', 'Murrumbeena',\n",
       "       'Narre Warren', 'Newport', 'Noble Park', 'North Melbourne',\n",
       "       'Northcote', 'Nunawading', 'Oak Park', 'Oakleigh',\n",
       "       'Oakleigh South', 'Ormond', 'Pakenham', 'Parkdale', 'Parkville',\n",
       "       'Pascoe Vale', 'Patterson Lakes', 'Plenty', 'Point Cook',\n",
       "       'Port Melbourne', 'Prahran', 'Preston', 'Reservoir', 'Richmond',\n",
       "       'Riddells Creek', 'Ringwood', 'Ringwood East', 'Ringwood North',\n",
       "       'Rosanna', 'Rowville', 'Roxburgh Park', 'Sandringham', 'Scoresby',\n",
       "       'Seaford', 'Seddon', 'South Melbourne', 'South Morang',\n",
       "       'South Yarra', 'Southbank', 'Spotswood', 'Springvale', 'St Albans',\n",
       "       'St Kilda', 'Strathmore', 'Strathmore Heights', 'Sunshine',\n",
       "       'Sunshine North', 'Sunshine West', 'Surrey Hills', 'Sydenham',\n",
       "       'Taylors Lakes', 'Templestowe', 'Templestowe Lower', 'Thomastown',\n",
       "       'Thornbury', 'Toorak', 'Truganina', 'Tullamarine', 'Vermont South',\n",
       "       'Wantirna', 'Wantirna South', 'Warrandyte', 'Werribee',\n",
       "       'West Footscray', 'West Melbourne', 'Westmeadows', 'Wheelers Hill',\n",
       "       'Williamstown', 'Windsor', 'Wollert', 'Wyndham Vale', 'Yarraville',\n",
       "       'Ardeer', 'Bayswater', 'Berwick', 'Briar Hill', 'Brooklyn',\n",
       "       'Burnside Heights', 'Cairnlea', 'Clarinda', 'Clyde North',\n",
       "       'Croydon Hills', 'Croydon North', 'Doreen', 'Emerald',\n",
       "       'Eumemmerring', 'Gisborne', 'Hallam', 'Hampton East',\n",
       "       'Healesville', 'Keilor Lodge', 'Kings Park', 'Kingsbury',\n",
       "       'Lower Plenty', 'Lynbrook', 'Melton South', 'Melton West',\n",
       "       'Mickleham', 'Mont Albert', 'Montrose', 'Oakleigh East',\n",
       "       'Princes Hill', 'Rockbank', 'Seabrook', 'Seaholme', 'Skye',\n",
       "       'Springvale South', 'St Helena', 'Sunbury', 'Tarneit',\n",
       "       'Taylors Hill', 'Tecoma', 'The Basin', 'Vermont', 'Viewbank',\n",
       "       'Werribee South', 'Williams Landing', 'Caulfield', 'Croydon South',\n",
       "       'Flemington', 'Gardenvale', 'Hawthorn East', 'Kealba', 'Keilor',\n",
       "       'Keilor Park', 'Niddrie', 'Burnley', 'Chirnside Park', 'Cremorne',\n",
       "       'Glen Huntly', 'Hampton Park', 'Manor Lakes', 'North Warrandyte',\n",
       "       'Plumpton', 'South Kingsville', 'Wallan', 'Warranwood', 'Watsonia',\n",
       "       'Doveton', 'Ferny Creek', 'Balaclava', 'Campbellfield', 'Coolaroo',\n",
       "       'Diggers Rest', 'Heatherton', 'Langwarrin', 'Laverton',\n",
       "       'Wandin North', 'Watsonia North', 'Yallambie', 'Docklands',\n",
       "       'Wattle Glen', 'Kooyong', 'Notting Hill', 'Williamstown North',\n",
       "       'Burnside', 'Chelsea Heights', 'Derrimut', 'Kilsyth',\n",
       "       'New Gisborne', 'Ripponlea', 'Pentland Hills', 'Cranbourne East',\n",
       "       'Eynesbury', 'Gisborne South', 'Oaklands Junction', 'Sandhurst',\n",
       "       'Research', 'Travancore', 'Upwey', 'Waterways', 'Yan Yean',\n",
       "       'Cranbourne West', 'Wonga Park', 'Beaconsfield', 'Botanic Ridge',\n",
       "       'Gembrook', 'Kilsyth South', 'Woori Yallock', 'Bacchus Marsh',\n",
       "       'Macleod', 'Panton Hill', 'Lyndhurst', 'Officer', 'Mount Evelyn',\n",
       "       'Kalkallo', 'Warrandyte South', 'Lysterfield', 'Guys Hill',\n",
       "       'Hurstbridge', 'Whittlesea', 'Monbulk', 'Silvan', 'Warburton',\n",
       "       'Cockatoo', 'Kallista', 'Bullengarook', 'Brookfield', 'Bulla',\n",
       "       'Seville', 'Olinda', 'Avonsleigh', 'Wildwood', 'Castella',\n",
       "       'Park Orchards', 'Kalorama', 'Belgrave', 'Beaconsfield Upper',\n",
       "       'Coldstream', 'Hopetoun Park', 'Toolern Vale', 'Belgrave South',\n",
       "       'Don Valley', 'Yarra Glen', 'Mount Dandenong', 'Menzies Creek',\n",
       "       'Cranbourne South', 'Warneet', 'croydon', 'Belgrave Heights',\n",
       "       'Yarrambat', 'viewbank', 'Maddingley', 'Yarra Junction',\n",
       "       'Lysterfield South'], dtype=object)"
      ]
     },
     "execution_count": 5,
     "metadata": {},
     "output_type": "execute_result"
    }
   ],
   "source": [
    "df['Suburb'].unique()"
   ]
  },
  {
   "cell_type": "code",
   "execution_count": 6,
   "id": "81da2407",
   "metadata": {},
   "outputs": [
    {
     "data": {
      "text/plain": [
       "array(['Jellis', 'Marshall', 'Nelson', 'Barry', 'hockingstuart', 'Cayzer',\n",
       "       'Douglas', 'Bells', 'Miles', 'Barlow', 'Hunter', 'Ray',\n",
       "       'Fletchers', 'Walshe', 'Noel', 'Philip', 'Buxton', 'Hodges',\n",
       "       'Woodards', 'Point', 'Stockdale', 'Purplebricks', 'Biggin',\n",
       "       'Village', 'Boran', 'Jas', 'Kay', 'Prof', 'YPA', 'Rombotis',\n",
       "       'Brad', 'J', 'RT', 'Garvey', 'Prowse', 'Domain', 'Sweeney',\n",
       "       'Donovan', 'Gary', \"O'Brien\", 'LJ', 'Darras', 'C21', 'Peter',\n",
       "       'Del', 'Jason', 'Bombay', 'iSell', 'Carter', 'McLennan',\n",
       "       'buyMyplace', 'Raine', 'Mason', 'Lindellas', 'Parkes', 'Caine',\n",
       "       'hockingstuart/hockingstuart', 'Morrison', 'Chisholm', 'Whiting',\n",
       "       'Harcourts', 'Love', 'Frank', 'Rendina', 'Win', 'Schroeder',\n",
       "       'Collins', 'McGrath', 'Eview', 'Aquire', 'Wilson', 'LLC', 'Roger',\n",
       "       'Darren', 'Buckingham', 'Nick', 'Prof.', 'Greg', 'Haughton',\n",
       "       'Edward', 'Iconek', \"Sotheby's\", \"Abercromby's\", 'Obrien',\n",
       "       'Grantham', 'Hoskins', 'Benchmark', 'Thomson', 'Alexkarbon',\n",
       "       'Matthew', 'RW', 'RE', 'U', 'MICM', 'Compton', 'FN', 'Westside',\n",
       "       'Considine', 'ASL', 'Reliance', 'Langwell', 'Gardiner', 'Triwest',\n",
       "       'Williams', 'Gunn&Co', 'Moonee', 'McDonald', 'Appleby',\n",
       "       'Nicholson', 'Bekdon', 'Metro', \"Grant's\", 'Melbourne', '@Realty',\n",
       "       'Ham', 'Morleys', 'Burnham', 'LITTLE', 'William', 'PRDNationwide',\n",
       "       'Max', 'Only', 'Leyton', 'Maitland', 'Lucas', 'Rounds',\n",
       "       'Millership', 'L', 'iTRAK', 'Emerson', 'People', 'Paul', 'HAR',\n",
       "       'JRW', 'Pride', 'PNJ', 'Harcourts/Biggin', 'Red', 'Area', 'Skad',\n",
       "       'Finders', 'Home', 'The', 'Elite', 'Fletchers/Fletchers',\n",
       "       'Leeburn', 'Benlor', 'Wyndham', 'Upside', 'R&H', 'Tim', 'Besser',\n",
       "       'Branon', 'Property', 'Savoy', 'Hamilton', \"Buxton/O'Brien\",\n",
       "       'Boutique', 'Collings', 'iHomes', 'Dawson', 'David', 'Zed',\n",
       "       'Follett', 'Exchanged', 'Rexhepi', 'W.B.', 'Scott', 'Munn',\n",
       "       'Cocoon', 'United', 'GL', 'Ruralco', 'voglwalpole', 'Hall',\n",
       "       'REMAX', 'hockingstuart/Sweeney', 'Ash', 'Gold', 'Hill', 'Ryder',\n",
       "       'hockingstuart/Biggin', 'Bayside', 'Janice', 'Harrington', 'R',\n",
       "       'G&H', 'Charlton', 'Commercial', 'PSP', 'Flannagan', 'Geoff',\n",
       "       'S&L', 'hockingstuart/Cayzer', 'Leading', 'Real', 'OBrien', 'LJH',\n",
       "       'Le', 'Nguyen', 'Rodney', 'Unity', 'Steller', 'Jim', 'Ace', 'JMRE',\n",
       "       'Castran', 'WeSell', 'M.J', 'iProperty', 'Hayeswinckle',\n",
       "       'Nardella', 'Brace', 'Century', 'Ross', 'Rayner', 'Asset',\n",
       "       'Allens', 'Zahn', 'Sanctuary', 'Dingle', 'VICPROP', 'Crane', 'One',\n",
       "       'Kaye', 'Community', 'Meadows', 'Just', 'McNaughton', 'Cooper',\n",
       "       'Black', 'North', 'Naison', 'Reach', 'Homes', 'New', \"D'Aprano\",\n",
       "       'Len', 'Leased', 'Blue', 'hockingstuart/Village', 'Ascend', 'Ken',\n",
       "       'Buxton/Buxton', 'Daniel', 'Inner', 'Maddison', 'Peake',\n",
       "       \"Tiernan's\", 'Re', 'Professionals', 'Holland', 'Avion', 'Reed',\n",
       "       'hockingstuart/Barry', 'K.R.Peters', 'Christopher', 'Joseph',\n",
       "       'Belmar', 'Pagan', 'Galldon', 'Beller', 'Dixon', 'Abley',\n",
       "       'Chambers', 'Marvelli', 'Kennedy', 'Harrison', 'Trimson', 'Gross',\n",
       "       'Parkinson', 'Johnston', 'hockingstuart/Harcourts', 'Bowman',\n",
       "       'Sell', 'Charter', 'MJ', 'Hodges/Hodges', 'Buxton/Marshall', 'A',\n",
       "       'Collin', 'Watermark', 'Matrix', 'Calder', 'Thomas', 'Shape',\n",
       "       'Spencer', 'Space', 'McGrath/Langwell', 'Burns', 'Weda', 'JK',\n",
       "       'Mandy', 'Airport', 'Foxtons', 'Buxton/Advantage', 'Nexus',\n",
       "       'First', 'Bell', 'Arbee', 'Fletchers/Jellis', 'Alex', 'C',\n",
       "       'Create', 'Weston', 'TTS', 'Assisi', 'McEwing', 'Raine&Horne',\n",
       "       'Shine', 'Market', 'Coad', 'Ausin', 'Tanner', 'Ristic', 'Bullen',\n",
       "       'WHITEFOX', 'PRD', 'Landfield', 'Full', 'MSM', 'Anderson', 'Kelly',\n",
       "       'VICProp', 'Hooper', 'JY', 'Upper', 'Xynergy', 'VicHomes', 'TRUE',\n",
       "       'Vicprop', 'UFirst', 'Enrich', 'Sweeney/Advantage', 'Justin',\n",
       "       'Hodges/Buxton', 'Nicholls', 'hockingstuart/Advantage', 'Open',\n",
       "       'Leaders', 'Sterling', 'CarlinSmith', 'Mega', 'Sprint',\n",
       "       'McGrath/Noel', 'Wood', 'Fletchers/One', 'Quinta', 'Flanagan',\n",
       "       'Jacobs', 'Walsh', 'Woodards/hockingstuart', 'Mitchell',\n",
       "       'hockingstuart/Buxton', 'P', 'Silver', 'Surreal', 'Judith', 'MIG',\n",
       "       'hockingstuart/ASL', 'Kontek', 'Harcourts/Harcourts', 'Keatings',\n",
       "       'Smart', \"O'Donoghues\", 'Changing', 'Owen', 'Australian',\n",
       "       'CASTRAN', 'Peninsula', 'Gr8', 'Outlook', 'Davita', 'Lynda',\n",
       "       'Lazogas', 'Little', 'Town', 'Conley', 'hockingstuart/HAR',\n",
       "       'Propertyau', 'Batty', 'Sutherland', 'Redina', 'Allan', 'Hume',\n",
       "       'Knight', 'Blackbird', 'Oriental', 'Better', 'Royston', 'Haven',\n",
       "       'Platinum', 'Revolve', 'VicBrokers', 'Richardson',\n",
       "       'Harcourts/Barry', 'Harcourts/LJ', 'Pellegrino', 'Landmark',\n",
       "       'Doyen', 'Coventry', 'Evolve', 'Clairmont', 'iOne',\n",
       "       'hockingstuart/Kerr', 'Jupiter', 'Rosin', 'McGrath/Buxton',\n",
       "       'hockingstuart/Marshall', 'McGrath/First', 'Victory', 'Aumeca',\n",
       "       'Mindacom', 'Karen', 'AIME', 'Luxe', 'Fletchers/J', 'Meallin',\n",
       "       'Malvern', 'Mark', 'Bradly', 'Sandhurst', 'Buxton/Find',\n",
       "       'Christou', 'Craig', 'Sahara', 'We', 'Jamie', 'Sweeney/Burnham',\n",
       "       'Eric', 'H', 'Regal', 'Luxton', 'Steveway', 'SheSELLS',\n",
       "       'hockingstuart/Purplebricks', 'Impact', 'Realty', 'Aussie',\n",
       "       'Patterson', 'SN', 'Waterfront', 'Methven', 'hockingstuart/Jellis',\n",
       "       'Woodards/Peter', 'Buxton/hockingstuart', 'Kerr', 'Nicholas',\n",
       "       'Conquest', 'Park', 'Auv', 'For', 'Weast', 'Pavilion', 'Integrity',\n",
       "       \"Private/Tiernan's\", 'Harcourts/YPA', 'T', 'Prime', 'Free',\n",
       "       'Veitch', 'John', 'Joe', 'Bustin', 'Vic', 'Direct', 'Bayview',\n",
       "       'Leader', 'Oak', 'Can', 'Gellibrand', 'White', 'Jeffrey', 'Icon',\n",
       "       'Buxton/Hodges', 'Living'], dtype=object)"
      ]
     },
     "execution_count": 6,
     "metadata": {},
     "output_type": "execute_result"
    }
   ],
   "source": [
    "df['SellerG'].unique()"
   ]
  },
  {
   "cell_type": "code",
   "execution_count": 7,
   "id": "0edff04b",
   "metadata": {},
   "outputs": [
    {
     "data": {
      "text/plain": [
       "array(['Northern Metropolitan', 'Western Metropolitan',\n",
       "       'Southern Metropolitan', 'South-Eastern Metropolitan',\n",
       "       'Eastern Metropolitan', 'Northern Victoria', 'Western Victoria',\n",
       "       'Eastern Victoria'], dtype=object)"
      ]
     },
     "execution_count": 7,
     "metadata": {},
     "output_type": "execute_result"
    }
   ],
   "source": [
    "df['Regionname'].unique()"
   ]
  },
  {
   "cell_type": "code",
   "execution_count": 8,
   "id": "fab30db0",
   "metadata": {},
   "outputs": [
    {
     "data": {
      "text/html": [
       "<div>\n",
       "<style scoped>\n",
       "    .dataframe tbody tr th:only-of-type {\n",
       "        vertical-align: middle;\n",
       "    }\n",
       "\n",
       "    .dataframe tbody tr th {\n",
       "        vertical-align: top;\n",
       "    }\n",
       "\n",
       "    .dataframe thead th {\n",
       "        text-align: right;\n",
       "    }\n",
       "</style>\n",
       "<table border=\"1\" class=\"dataframe\">\n",
       "  <thead>\n",
       "    <tr style=\"text-align: right;\">\n",
       "      <th></th>\n",
       "      <th>Suburb</th>\n",
       "      <th>Address</th>\n",
       "      <th>Rooms</th>\n",
       "      <th>Type</th>\n",
       "      <th>Price</th>\n",
       "      <th>Method</th>\n",
       "      <th>SellerG</th>\n",
       "      <th>Date</th>\n",
       "      <th>Postcode</th>\n",
       "      <th>Regionname</th>\n",
       "      <th>Propertycount</th>\n",
       "      <th>Distance</th>\n",
       "      <th>CouncilArea</th>\n",
       "    </tr>\n",
       "  </thead>\n",
       "  <tbody>\n",
       "    <tr>\n",
       "      <th>0</th>\n",
       "      <td>Abbotsford</td>\n",
       "      <td>49 Lithgow St</td>\n",
       "      <td>3</td>\n",
       "      <td>h</td>\n",
       "      <td>1490000.0</td>\n",
       "      <td>S</td>\n",
       "      <td>Jellis</td>\n",
       "      <td>1/04/2017</td>\n",
       "      <td>3067</td>\n",
       "      <td>1</td>\n",
       "      <td>4019</td>\n",
       "      <td>3.0</td>\n",
       "      <td>Yarra City Council</td>\n",
       "    </tr>\n",
       "    <tr>\n",
       "      <th>1</th>\n",
       "      <td>Abbotsford</td>\n",
       "      <td>59A Turner St</td>\n",
       "      <td>3</td>\n",
       "      <td>h</td>\n",
       "      <td>1220000.0</td>\n",
       "      <td>S</td>\n",
       "      <td>Marshall</td>\n",
       "      <td>1/04/2017</td>\n",
       "      <td>3067</td>\n",
       "      <td>1</td>\n",
       "      <td>4019</td>\n",
       "      <td>3.0</td>\n",
       "      <td>Yarra City Council</td>\n",
       "    </tr>\n",
       "    <tr>\n",
       "      <th>2</th>\n",
       "      <td>Abbotsford</td>\n",
       "      <td>119B Yarra St</td>\n",
       "      <td>3</td>\n",
       "      <td>h</td>\n",
       "      <td>1420000.0</td>\n",
       "      <td>S</td>\n",
       "      <td>Nelson</td>\n",
       "      <td>1/04/2017</td>\n",
       "      <td>3067</td>\n",
       "      <td>1</td>\n",
       "      <td>4019</td>\n",
       "      <td>3.0</td>\n",
       "      <td>Yarra City Council</td>\n",
       "    </tr>\n",
       "    <tr>\n",
       "      <th>3</th>\n",
       "      <td>Aberfeldie</td>\n",
       "      <td>68 Vida St</td>\n",
       "      <td>3</td>\n",
       "      <td>h</td>\n",
       "      <td>1515000.0</td>\n",
       "      <td>S</td>\n",
       "      <td>Barry</td>\n",
       "      <td>1/04/2017</td>\n",
       "      <td>3040</td>\n",
       "      <td>2</td>\n",
       "      <td>1543</td>\n",
       "      <td>7.5</td>\n",
       "      <td>Moonee Valley City Council</td>\n",
       "    </tr>\n",
       "    <tr>\n",
       "      <th>4</th>\n",
       "      <td>Airport West</td>\n",
       "      <td>92 Clydesdale Rd</td>\n",
       "      <td>2</td>\n",
       "      <td>h</td>\n",
       "      <td>670000.0</td>\n",
       "      <td>S</td>\n",
       "      <td>Nelson</td>\n",
       "      <td>1/04/2017</td>\n",
       "      <td>3042</td>\n",
       "      <td>2</td>\n",
       "      <td>3464</td>\n",
       "      <td>10.4</td>\n",
       "      <td>Moonee Valley City Council</td>\n",
       "    </tr>\n",
       "    <tr>\n",
       "      <th>...</th>\n",
       "      <td>...</td>\n",
       "      <td>...</td>\n",
       "      <td>...</td>\n",
       "      <td>...</td>\n",
       "      <td>...</td>\n",
       "      <td>...</td>\n",
       "      <td>...</td>\n",
       "      <td>...</td>\n",
       "      <td>...</td>\n",
       "      <td>...</td>\n",
       "      <td>...</td>\n",
       "      <td>...</td>\n",
       "      <td>...</td>\n",
       "    </tr>\n",
       "    <tr>\n",
       "      <th>63018</th>\n",
       "      <td>Roxburgh Park</td>\n",
       "      <td>3 Carr Pl</td>\n",
       "      <td>3</td>\n",
       "      <td>h</td>\n",
       "      <td>566000.0</td>\n",
       "      <td>S</td>\n",
       "      <td>Raine</td>\n",
       "      <td>31/03/2018</td>\n",
       "      <td>3064</td>\n",
       "      <td>1</td>\n",
       "      <td>5833</td>\n",
       "      <td>20.6</td>\n",
       "      <td>Hume City Council</td>\n",
       "    </tr>\n",
       "    <tr>\n",
       "      <th>63019</th>\n",
       "      <td>Roxburgh Park</td>\n",
       "      <td>9 Parker Ct</td>\n",
       "      <td>3</td>\n",
       "      <td>h</td>\n",
       "      <td>500000.0</td>\n",
       "      <td>S</td>\n",
       "      <td>Raine</td>\n",
       "      <td>31/03/2018</td>\n",
       "      <td>3064</td>\n",
       "      <td>1</td>\n",
       "      <td>5833</td>\n",
       "      <td>20.6</td>\n",
       "      <td>Hume City Council</td>\n",
       "    </tr>\n",
       "    <tr>\n",
       "      <th>63020</th>\n",
       "      <td>Roxburgh Park</td>\n",
       "      <td>5 Parkinson Wy</td>\n",
       "      <td>3</td>\n",
       "      <td>h</td>\n",
       "      <td>545000.0</td>\n",
       "      <td>S</td>\n",
       "      <td>Raine</td>\n",
       "      <td>31/03/2018</td>\n",
       "      <td>3064</td>\n",
       "      <td>1</td>\n",
       "      <td>5833</td>\n",
       "      <td>20.6</td>\n",
       "      <td>Hume City Council</td>\n",
       "    </tr>\n",
       "    <tr>\n",
       "      <th>63021</th>\n",
       "      <td>Thomastown</td>\n",
       "      <td>3/1 Travers St</td>\n",
       "      <td>3</td>\n",
       "      <td>u</td>\n",
       "      <td>NaN</td>\n",
       "      <td>PI</td>\n",
       "      <td>Barry</td>\n",
       "      <td>31/03/2018</td>\n",
       "      <td>3074</td>\n",
       "      <td>1</td>\n",
       "      <td>7955</td>\n",
       "      <td>15.3</td>\n",
       "      <td>Whittlesea City Council</td>\n",
       "    </tr>\n",
       "    <tr>\n",
       "      <th>63022</th>\n",
       "      <td>Williams Landing</td>\n",
       "      <td>1 Diadem Wy</td>\n",
       "      <td>4</td>\n",
       "      <td>h</td>\n",
       "      <td>NaN</td>\n",
       "      <td>SP</td>\n",
       "      <td>Aussie</td>\n",
       "      <td>31/03/2018</td>\n",
       "      <td>3027</td>\n",
       "      <td>2</td>\n",
       "      <td>1999</td>\n",
       "      <td>17.6</td>\n",
       "      <td>Wyndham City Council</td>\n",
       "    </tr>\n",
       "  </tbody>\n",
       "</table>\n",
       "<p>63023 rows × 13 columns</p>\n",
       "</div>"
      ],
      "text/plain": [
       "                 Suburb           Address  Rooms Type      Price Method  \\\n",
       "0            Abbotsford     49 Lithgow St      3    h  1490000.0      S   \n",
       "1            Abbotsford     59A Turner St      3    h  1220000.0      S   \n",
       "2            Abbotsford     119B Yarra St      3    h  1420000.0      S   \n",
       "3            Aberfeldie        68 Vida St      3    h  1515000.0      S   \n",
       "4          Airport West  92 Clydesdale Rd      2    h   670000.0      S   \n",
       "...                 ...               ...    ...  ...        ...    ...   \n",
       "63018     Roxburgh Park         3 Carr Pl      3    h   566000.0      S   \n",
       "63019     Roxburgh Park       9 Parker Ct      3    h   500000.0      S   \n",
       "63020     Roxburgh Park    5 Parkinson Wy      3    h   545000.0      S   \n",
       "63021        Thomastown    3/1 Travers St      3    u        NaN     PI   \n",
       "63022  Williams Landing       1 Diadem Wy      4    h        NaN     SP   \n",
       "\n",
       "        SellerG        Date  Postcode  Regionname  Propertycount  Distance  \\\n",
       "0        Jellis   1/04/2017      3067           1           4019       3.0   \n",
       "1      Marshall   1/04/2017      3067           1           4019       3.0   \n",
       "2        Nelson   1/04/2017      3067           1           4019       3.0   \n",
       "3         Barry   1/04/2017      3040           2           1543       7.5   \n",
       "4        Nelson   1/04/2017      3042           2           3464      10.4   \n",
       "...         ...         ...       ...         ...            ...       ...   \n",
       "63018     Raine  31/03/2018      3064           1           5833      20.6   \n",
       "63019     Raine  31/03/2018      3064           1           5833      20.6   \n",
       "63020     Raine  31/03/2018      3064           1           5833      20.6   \n",
       "63021     Barry  31/03/2018      3074           1           7955      15.3   \n",
       "63022    Aussie  31/03/2018      3027           2           1999      17.6   \n",
       "\n",
       "                      CouncilArea  \n",
       "0              Yarra City Council  \n",
       "1              Yarra City Council  \n",
       "2              Yarra City Council  \n",
       "3      Moonee Valley City Council  \n",
       "4      Moonee Valley City Council  \n",
       "...                           ...  \n",
       "63018           Hume City Council  \n",
       "63019           Hume City Council  \n",
       "63020           Hume City Council  \n",
       "63021     Whittlesea City Council  \n",
       "63022        Wyndham City Council  \n",
       "\n",
       "[63023 rows x 13 columns]"
      ]
     },
     "execution_count": 8,
     "metadata": {},
     "output_type": "execute_result"
    }
   ],
   "source": [
    "df.Regionname=df.Regionname.map(arg={'Northern Metropolitan':1,'Western Metropolitan':2,'Southern Metropolitan':3,'South-Eastern Metropolitan':4,'Eastern Metropolitan':5,'Northern Victoria':6,'Eastern Victoria':7,'Western Victoria':8})\n",
    "df"
   ]
  },
  {
   "cell_type": "code",
   "execution_count": 9,
   "id": "e80646d3",
   "metadata": {},
   "outputs": [
    {
     "data": {
      "text/plain": [
       "array(['Yarra City Council', 'Moonee Valley City Council',\n",
       "       'Brimbank City Council', 'Port Phillip City Council',\n",
       "       'Darebin City Council', 'Hobsons Bay City Council',\n",
       "       'Stonnington City Council', 'Boroondara City Council',\n",
       "       'Monash City Council', 'Kingston City Council',\n",
       "       'Hume City Council', 'Maroondah City Council',\n",
       "       'Bayside City Council', 'Banyule City Council',\n",
       "       'Glen Eira City Council', 'Whitehorse City Council',\n",
       "       'Knox City Council', 'Maribyrnong City Council',\n",
       "       'Moreland City Council', 'Manningham City Council',\n",
       "       'Melbourne City Council', 'Melton City Council',\n",
       "       'Frankston City Council', 'Macedon Ranges Shire Council',\n",
       "       'Casey City Council', 'Greater Dandenong City Council',\n",
       "       'Moorabool Shire Council', 'Nillumbik Shire Council',\n",
       "       'Whittlesea City Council', 'Wyndham City Council',\n",
       "       'Yarra Ranges Shire Council', 'Cardinia Shire Council',\n",
       "       'Mitchell Shire Council', 'Murrindindi Shire Council'],\n",
       "      dtype=object)"
      ]
     },
     "execution_count": 9,
     "metadata": {},
     "output_type": "execute_result"
    }
   ],
   "source": [
    "df['CouncilArea'].unique()"
   ]
  },
  {
   "cell_type": "code",
   "execution_count": 10,
   "id": "b72dd55e",
   "metadata": {},
   "outputs": [
    {
     "data": {
      "text/html": [
       "<div>\n",
       "<style scoped>\n",
       "    .dataframe tbody tr th:only-of-type {\n",
       "        vertical-align: middle;\n",
       "    }\n",
       "\n",
       "    .dataframe tbody tr th {\n",
       "        vertical-align: top;\n",
       "    }\n",
       "\n",
       "    .dataframe thead th {\n",
       "        text-align: right;\n",
       "    }\n",
       "</style>\n",
       "<table border=\"1\" class=\"dataframe\">\n",
       "  <thead>\n",
       "    <tr style=\"text-align: right;\">\n",
       "      <th></th>\n",
       "      <th>Suburb</th>\n",
       "      <th>Address</th>\n",
       "      <th>Rooms</th>\n",
       "      <th>Type</th>\n",
       "      <th>Price</th>\n",
       "      <th>Method</th>\n",
       "      <th>SellerG</th>\n",
       "      <th>Date</th>\n",
       "      <th>Postcode</th>\n",
       "      <th>Regionname</th>\n",
       "      <th>Propertycount</th>\n",
       "      <th>Distance</th>\n",
       "      <th>CouncilArea</th>\n",
       "    </tr>\n",
       "  </thead>\n",
       "  <tbody>\n",
       "    <tr>\n",
       "      <th>0</th>\n",
       "      <td>Abbotsford</td>\n",
       "      <td>49 Lithgow St</td>\n",
       "      <td>3</td>\n",
       "      <td>1</td>\n",
       "      <td>1490000.0</td>\n",
       "      <td>S</td>\n",
       "      <td>Jellis</td>\n",
       "      <td>1/04/2017</td>\n",
       "      <td>3067</td>\n",
       "      <td>1</td>\n",
       "      <td>4019</td>\n",
       "      <td>3.0</td>\n",
       "      <td>Yarra City Council</td>\n",
       "    </tr>\n",
       "    <tr>\n",
       "      <th>1</th>\n",
       "      <td>Abbotsford</td>\n",
       "      <td>59A Turner St</td>\n",
       "      <td>3</td>\n",
       "      <td>1</td>\n",
       "      <td>1220000.0</td>\n",
       "      <td>S</td>\n",
       "      <td>Marshall</td>\n",
       "      <td>1/04/2017</td>\n",
       "      <td>3067</td>\n",
       "      <td>1</td>\n",
       "      <td>4019</td>\n",
       "      <td>3.0</td>\n",
       "      <td>Yarra City Council</td>\n",
       "    </tr>\n",
       "    <tr>\n",
       "      <th>2</th>\n",
       "      <td>Abbotsford</td>\n",
       "      <td>119B Yarra St</td>\n",
       "      <td>3</td>\n",
       "      <td>1</td>\n",
       "      <td>1420000.0</td>\n",
       "      <td>S</td>\n",
       "      <td>Nelson</td>\n",
       "      <td>1/04/2017</td>\n",
       "      <td>3067</td>\n",
       "      <td>1</td>\n",
       "      <td>4019</td>\n",
       "      <td>3.0</td>\n",
       "      <td>Yarra City Council</td>\n",
       "    </tr>\n",
       "    <tr>\n",
       "      <th>3</th>\n",
       "      <td>Aberfeldie</td>\n",
       "      <td>68 Vida St</td>\n",
       "      <td>3</td>\n",
       "      <td>1</td>\n",
       "      <td>1515000.0</td>\n",
       "      <td>S</td>\n",
       "      <td>Barry</td>\n",
       "      <td>1/04/2017</td>\n",
       "      <td>3040</td>\n",
       "      <td>2</td>\n",
       "      <td>1543</td>\n",
       "      <td>7.5</td>\n",
       "      <td>Moonee Valley City Council</td>\n",
       "    </tr>\n",
       "    <tr>\n",
       "      <th>4</th>\n",
       "      <td>Airport West</td>\n",
       "      <td>92 Clydesdale Rd</td>\n",
       "      <td>2</td>\n",
       "      <td>1</td>\n",
       "      <td>670000.0</td>\n",
       "      <td>S</td>\n",
       "      <td>Nelson</td>\n",
       "      <td>1/04/2017</td>\n",
       "      <td>3042</td>\n",
       "      <td>2</td>\n",
       "      <td>3464</td>\n",
       "      <td>10.4</td>\n",
       "      <td>Moonee Valley City Council</td>\n",
       "    </tr>\n",
       "    <tr>\n",
       "      <th>...</th>\n",
       "      <td>...</td>\n",
       "      <td>...</td>\n",
       "      <td>...</td>\n",
       "      <td>...</td>\n",
       "      <td>...</td>\n",
       "      <td>...</td>\n",
       "      <td>...</td>\n",
       "      <td>...</td>\n",
       "      <td>...</td>\n",
       "      <td>...</td>\n",
       "      <td>...</td>\n",
       "      <td>...</td>\n",
       "      <td>...</td>\n",
       "    </tr>\n",
       "    <tr>\n",
       "      <th>63018</th>\n",
       "      <td>Roxburgh Park</td>\n",
       "      <td>3 Carr Pl</td>\n",
       "      <td>3</td>\n",
       "      <td>1</td>\n",
       "      <td>566000.0</td>\n",
       "      <td>S</td>\n",
       "      <td>Raine</td>\n",
       "      <td>31/03/2018</td>\n",
       "      <td>3064</td>\n",
       "      <td>1</td>\n",
       "      <td>5833</td>\n",
       "      <td>20.6</td>\n",
       "      <td>Hume City Council</td>\n",
       "    </tr>\n",
       "    <tr>\n",
       "      <th>63019</th>\n",
       "      <td>Roxburgh Park</td>\n",
       "      <td>9 Parker Ct</td>\n",
       "      <td>3</td>\n",
       "      <td>1</td>\n",
       "      <td>500000.0</td>\n",
       "      <td>S</td>\n",
       "      <td>Raine</td>\n",
       "      <td>31/03/2018</td>\n",
       "      <td>3064</td>\n",
       "      <td>1</td>\n",
       "      <td>5833</td>\n",
       "      <td>20.6</td>\n",
       "      <td>Hume City Council</td>\n",
       "    </tr>\n",
       "    <tr>\n",
       "      <th>63020</th>\n",
       "      <td>Roxburgh Park</td>\n",
       "      <td>5 Parkinson Wy</td>\n",
       "      <td>3</td>\n",
       "      <td>1</td>\n",
       "      <td>545000.0</td>\n",
       "      <td>S</td>\n",
       "      <td>Raine</td>\n",
       "      <td>31/03/2018</td>\n",
       "      <td>3064</td>\n",
       "      <td>1</td>\n",
       "      <td>5833</td>\n",
       "      <td>20.6</td>\n",
       "      <td>Hume City Council</td>\n",
       "    </tr>\n",
       "    <tr>\n",
       "      <th>63021</th>\n",
       "      <td>Thomastown</td>\n",
       "      <td>3/1 Travers St</td>\n",
       "      <td>3</td>\n",
       "      <td>3</td>\n",
       "      <td>NaN</td>\n",
       "      <td>PI</td>\n",
       "      <td>Barry</td>\n",
       "      <td>31/03/2018</td>\n",
       "      <td>3074</td>\n",
       "      <td>1</td>\n",
       "      <td>7955</td>\n",
       "      <td>15.3</td>\n",
       "      <td>Whittlesea City Council</td>\n",
       "    </tr>\n",
       "    <tr>\n",
       "      <th>63022</th>\n",
       "      <td>Williams Landing</td>\n",
       "      <td>1 Diadem Wy</td>\n",
       "      <td>4</td>\n",
       "      <td>1</td>\n",
       "      <td>NaN</td>\n",
       "      <td>SP</td>\n",
       "      <td>Aussie</td>\n",
       "      <td>31/03/2018</td>\n",
       "      <td>3027</td>\n",
       "      <td>2</td>\n",
       "      <td>1999</td>\n",
       "      <td>17.6</td>\n",
       "      <td>Wyndham City Council</td>\n",
       "    </tr>\n",
       "  </tbody>\n",
       "</table>\n",
       "<p>63023 rows × 13 columns</p>\n",
       "</div>"
      ],
      "text/plain": [
       "                 Suburb           Address  Rooms  Type      Price Method  \\\n",
       "0            Abbotsford     49 Lithgow St      3     1  1490000.0      S   \n",
       "1            Abbotsford     59A Turner St      3     1  1220000.0      S   \n",
       "2            Abbotsford     119B Yarra St      3     1  1420000.0      S   \n",
       "3            Aberfeldie        68 Vida St      3     1  1515000.0      S   \n",
       "4          Airport West  92 Clydesdale Rd      2     1   670000.0      S   \n",
       "...                 ...               ...    ...   ...        ...    ...   \n",
       "63018     Roxburgh Park         3 Carr Pl      3     1   566000.0      S   \n",
       "63019     Roxburgh Park       9 Parker Ct      3     1   500000.0      S   \n",
       "63020     Roxburgh Park    5 Parkinson Wy      3     1   545000.0      S   \n",
       "63021        Thomastown    3/1 Travers St      3     3        NaN     PI   \n",
       "63022  Williams Landing       1 Diadem Wy      4     1        NaN     SP   \n",
       "\n",
       "        SellerG        Date  Postcode  Regionname  Propertycount  Distance  \\\n",
       "0        Jellis   1/04/2017      3067           1           4019       3.0   \n",
       "1      Marshall   1/04/2017      3067           1           4019       3.0   \n",
       "2        Nelson   1/04/2017      3067           1           4019       3.0   \n",
       "3         Barry   1/04/2017      3040           2           1543       7.5   \n",
       "4        Nelson   1/04/2017      3042           2           3464      10.4   \n",
       "...         ...         ...       ...         ...            ...       ...   \n",
       "63018     Raine  31/03/2018      3064           1           5833      20.6   \n",
       "63019     Raine  31/03/2018      3064           1           5833      20.6   \n",
       "63020     Raine  31/03/2018      3064           1           5833      20.6   \n",
       "63021     Barry  31/03/2018      3074           1           7955      15.3   \n",
       "63022    Aussie  31/03/2018      3027           2           1999      17.6   \n",
       "\n",
       "                      CouncilArea  \n",
       "0              Yarra City Council  \n",
       "1              Yarra City Council  \n",
       "2              Yarra City Council  \n",
       "3      Moonee Valley City Council  \n",
       "4      Moonee Valley City Council  \n",
       "...                           ...  \n",
       "63018           Hume City Council  \n",
       "63019           Hume City Council  \n",
       "63020           Hume City Council  \n",
       "63021     Whittlesea City Council  \n",
       "63022        Wyndham City Council  \n",
       "\n",
       "[63023 rows x 13 columns]"
      ]
     },
     "execution_count": 10,
     "metadata": {},
     "output_type": "execute_result"
    }
   ],
   "source": [
    "df.Type=df.Type.map(arg={'h':1,'t':2,'u':3})\n",
    "df"
   ]
  },
  {
   "cell_type": "code",
   "execution_count": 11,
   "id": "2c9aadda",
   "metadata": {},
   "outputs": [
    {
     "data": {
      "text/plain": [
       "Suburb               0\n",
       "Address              0\n",
       "Rooms                0\n",
       "Type                 0\n",
       "Price            14590\n",
       "Method               0\n",
       "SellerG              0\n",
       "Date                 0\n",
       "Postcode             0\n",
       "Regionname           0\n",
       "Propertycount        0\n",
       "Distance             0\n",
       "CouncilArea          0\n",
       "dtype: int64"
      ]
     },
     "execution_count": 11,
     "metadata": {},
     "output_type": "execute_result"
    }
   ],
   "source": [
    "df.isnull().sum()"
   ]
  },
  {
   "cell_type": "code",
   "execution_count": 12,
   "id": "5fc4c95e",
   "metadata": {},
   "outputs": [],
   "source": [
    "y=df['Price']"
   ]
  },
  {
   "cell_type": "code",
   "execution_count": 13,
   "id": "014a539b",
   "metadata": {},
   "outputs": [
    {
     "data": {
      "image/png": "[encoded data removed]",
      "text/plain": [
       "<Figure size 640x480 with 1 Axes>"
      ]
     },
     "metadata": {},
     "output_type": "display_data"
    }
   ],
   "source": [
    "plt.scatter(df['Rooms'], y)\n",
    "plt.show()"
   ]
  },
  {
   "cell_type": "code",
   "execution_count": 14,
   "id": "ed0c999e",
   "metadata": {},
   "outputs": [
    {
     "data": {
      "image/png": "[encoded data removed]",
      "text/plain": [
       "<Figure size 640x480 with 1 Axes>"
      ]
     },
     "metadata": {},
     "output_type": "display_data"
    }
   ],
   "source": [
    "plt.scatter(df['Postcode'], y)\n",
    "plt.show()"
   ]
  },
  {
   "cell_type": "code",
   "execution_count": 15,
   "id": "8c5a4860",
   "metadata": {},
   "outputs": [
    {
     "data": {
      "image/png": "[encoded data removed]",
      "text/plain": [
       "<Figure size 640x480 with 1 Axes>"
      ]
     },
     "metadata": {},
     "output_type": "display_data"
    }
   ],
   "source": [
    "plt.scatter(df['Propertycount'], y)\n",
    "plt.show()"
   ]
  },
  {
   "cell_type": "code",
   "execution_count": 16,
   "id": "6c51d889",
   "metadata": {},
   "outputs": [
    {
     "data": {
      "image/png": "[encoded data removed]",
      "text/plain": [
       "<Figure size 640x480 with 1 Axes>"
      ]
     },
     "metadata": {},
     "output_type": "display_data"
    }
   ],
   "source": [
    "plt.scatter(df['Distance'], y)\n",
    "plt.show()"
   ]
  },
  {
   "cell_type": "code",
   "execution_count": 17,
   "id": "5d20e33e",
   "metadata": {},
   "outputs": [],
   "source": [
    "df=df.dropna()"
   ]
  },
  {
   "cell_type": "code",
   "execution_count": 18,
   "id": "bde8544f",
   "metadata": {},
   "outputs": [
    {
     "data": {
      "text/html": [
       "<div>\n",
       "<style scoped>\n",
       "    .dataframe tbody tr th:only-of-type {\n",
       "        vertical-align: middle;\n",
       "    }\n",
       "\n",
       "    .dataframe tbody tr th {\n",
       "        vertical-align: top;\n",
       "    }\n",
       "\n",
       "    .dataframe thead th {\n",
       "        text-align: right;\n",
       "    }\n",
       "</style>\n",
       "<table border=\"1\" class=\"dataframe\">\n",
       "  <thead>\n",
       "    <tr style=\"text-align: right;\">\n",
       "      <th></th>\n",
       "      <th>Rooms</th>\n",
       "      <th>Type</th>\n",
       "      <th>Price</th>\n",
       "      <th>Postcode</th>\n",
       "      <th>Regionname</th>\n",
       "      <th>Propertycount</th>\n",
       "      <th>Distance</th>\n",
       "    </tr>\n",
       "  </thead>\n",
       "  <tbody>\n",
       "    <tr>\n",
       "      <th>count</th>\n",
       "      <td>48433.000000</td>\n",
       "      <td>48433.000000</td>\n",
       "      <td>4.843300e+04</td>\n",
       "      <td>48433.000000</td>\n",
       "      <td>48433.000000</td>\n",
       "      <td>48433.000000</td>\n",
       "      <td>48433.000000</td>\n",
       "    </tr>\n",
       "    <tr>\n",
       "      <th>mean</th>\n",
       "      <td>3.071666</td>\n",
       "      <td>1.486528</td>\n",
       "      <td>9.978982e+05</td>\n",
       "      <td>3123.210332</td>\n",
       "      <td>2.712489</td>\n",
       "      <td>7566.399913</td>\n",
       "      <td>12.702761</td>\n",
       "    </tr>\n",
       "    <tr>\n",
       "      <th>std</th>\n",
       "      <td>0.944708</td>\n",
       "      <td>0.795950</td>\n",
       "      <td>5.934989e+05</td>\n",
       "      <td>125.534940</td>\n",
       "      <td>1.500519</td>\n",
       "      <td>4457.405884</td>\n",
       "      <td>7.550030</td>\n",
       "    </tr>\n",
       "    <tr>\n",
       "      <th>min</th>\n",
       "      <td>1.000000</td>\n",
       "      <td>1.000000</td>\n",
       "      <td>8.500000e+04</td>\n",
       "      <td>3000.000000</td>\n",
       "      <td>1.000000</td>\n",
       "      <td>39.000000</td>\n",
       "      <td>0.000000</td>\n",
       "    </tr>\n",
       "    <tr>\n",
       "      <th>25%</th>\n",
       "      <td>2.000000</td>\n",
       "      <td>1.000000</td>\n",
       "      <td>6.200000e+05</td>\n",
       "      <td>3051.000000</td>\n",
       "      <td>1.000000</td>\n",
       "      <td>4280.000000</td>\n",
       "      <td>7.000000</td>\n",
       "    </tr>\n",
       "    <tr>\n",
       "      <th>50%</th>\n",
       "      <td>3.000000</td>\n",
       "      <td>1.000000</td>\n",
       "      <td>8.300000e+05</td>\n",
       "      <td>3103.000000</td>\n",
       "      <td>3.000000</td>\n",
       "      <td>6567.000000</td>\n",
       "      <td>11.700000</td>\n",
       "    </tr>\n",
       "    <tr>\n",
       "      <th>75%</th>\n",
       "      <td>4.000000</td>\n",
       "      <td>2.000000</td>\n",
       "      <td>1.220000e+06</td>\n",
       "      <td>3163.000000</td>\n",
       "      <td>4.000000</td>\n",
       "      <td>10412.000000</td>\n",
       "      <td>16.700000</td>\n",
       "    </tr>\n",
       "    <tr>\n",
       "      <th>max</th>\n",
       "      <td>31.000000</td>\n",
       "      <td>3.000000</td>\n",
       "      <td>1.120000e+07</td>\n",
       "      <td>3980.000000</td>\n",
       "      <td>8.000000</td>\n",
       "      <td>21650.000000</td>\n",
       "      <td>55.800000</td>\n",
       "    </tr>\n",
       "  </tbody>\n",
       "</table>\n",
       "</div>"
      ],
      "text/plain": [
       "              Rooms          Type         Price      Postcode    Regionname  \\\n",
       "count  48433.000000  48433.000000  4.843300e+04  48433.000000  48433.000000   \n",
       "mean       3.071666      1.486528  9.978982e+05   3123.210332      2.712489   \n",
       "std        0.944708      0.795950  5.934989e+05    125.534940      1.500519   \n",
       "min        1.000000      1.000000  8.500000e+04   3000.000000      1.000000   \n",
       "25%        2.000000      1.000000  6.200000e+05   3051.000000      1.000000   \n",
       "50%        3.000000      1.000000  8.300000e+05   3103.000000      3.000000   \n",
       "75%        4.000000      2.000000  1.220000e+06   3163.000000      4.000000   \n",
       "max       31.000000      3.000000  1.120000e+07   3980.000000      8.000000   \n",
       "\n",
       "       Propertycount      Distance  \n",
       "count   48433.000000  48433.000000  \n",
       "mean     7566.399913     12.702761  \n",
       "std      4457.405884      7.550030  \n",
       "min        39.000000      0.000000  \n",
       "25%      4280.000000      7.000000  \n",
       "50%      6567.000000     11.700000  \n",
       "75%     10412.000000     16.700000  \n",
       "max     21650.000000     55.800000  "
      ]
     },
     "execution_count": 18,
     "metadata": {},
     "output_type": "execute_result"
    }
   ],
   "source": [
    "df.describe()"
   ]
  },
  {
   "cell_type": "markdown",
   "id": "84ff2a26",
   "metadata": {},
   "source": [
    "# iv. define x and y"
   ]
  },
  {
   "cell_type": "code",
   "execution_count": 19,
   "id": "3edf9473",
   "metadata": {},
   "outputs": [
    {
     "data": {
      "text/html": [
       "<div>\n",
       "<style scoped>\n",
       "    .dataframe tbody tr th:only-of-type {\n",
       "        vertical-align: middle;\n",
       "    }\n",
       "\n",
       "    .dataframe tbody tr th {\n",
       "        vertical-align: top;\n",
       "    }\n",
       "\n",
       "    .dataframe thead th {\n",
       "        text-align: right;\n",
       "    }\n",
       "</style>\n",
       "<table border=\"1\" class=\"dataframe\">\n",
       "  <thead>\n",
       "    <tr style=\"text-align: right;\">\n",
       "      <th></th>\n",
       "      <th>Rooms</th>\n",
       "      <th>Postcode</th>\n",
       "      <th>Propertycount</th>\n",
       "      <th>Distance</th>\n",
       "      <th>Type</th>\n",
       "      <th>Regionname</th>\n",
       "    </tr>\n",
       "  </thead>\n",
       "  <tbody>\n",
       "    <tr>\n",
       "      <th>0</th>\n",
       "      <td>3</td>\n",
       "      <td>3067</td>\n",
       "      <td>4019</td>\n",
       "      <td>3.0</td>\n",
       "      <td>1</td>\n",
       "      <td>1</td>\n",
       "    </tr>\n",
       "    <tr>\n",
       "      <th>1</th>\n",
       "      <td>3</td>\n",
       "      <td>3067</td>\n",
       "      <td>4019</td>\n",
       "      <td>3.0</td>\n",
       "      <td>1</td>\n",
       "      <td>1</td>\n",
       "    </tr>\n",
       "    <tr>\n",
       "      <th>2</th>\n",
       "      <td>3</td>\n",
       "      <td>3067</td>\n",
       "      <td>4019</td>\n",
       "      <td>3.0</td>\n",
       "      <td>1</td>\n",
       "      <td>1</td>\n",
       "    </tr>\n",
       "    <tr>\n",
       "      <th>3</th>\n",
       "      <td>3</td>\n",
       "      <td>3040</td>\n",
       "      <td>1543</td>\n",
       "      <td>7.5</td>\n",
       "      <td>1</td>\n",
       "      <td>2</td>\n",
       "    </tr>\n",
       "    <tr>\n",
       "      <th>4</th>\n",
       "      <td>2</td>\n",
       "      <td>3042</td>\n",
       "      <td>3464</td>\n",
       "      <td>10.4</td>\n",
       "      <td>1</td>\n",
       "      <td>2</td>\n",
       "    </tr>\n",
       "    <tr>\n",
       "      <th>...</th>\n",
       "      <td>...</td>\n",
       "      <td>...</td>\n",
       "      <td>...</td>\n",
       "      <td>...</td>\n",
       "      <td>...</td>\n",
       "      <td>...</td>\n",
       "    </tr>\n",
       "    <tr>\n",
       "      <th>63016</th>\n",
       "      <td>2</td>\n",
       "      <td>3199</td>\n",
       "      <td>17055</td>\n",
       "      <td>38.0</td>\n",
       "      <td>3</td>\n",
       "      <td>4</td>\n",
       "    </tr>\n",
       "    <tr>\n",
       "      <th>63017</th>\n",
       "      <td>3</td>\n",
       "      <td>3072</td>\n",
       "      <td>14577</td>\n",
       "      <td>8.4</td>\n",
       "      <td>1</td>\n",
       "      <td>1</td>\n",
       "    </tr>\n",
       "    <tr>\n",
       "      <th>63018</th>\n",
       "      <td>3</td>\n",
       "      <td>3064</td>\n",
       "      <td>5833</td>\n",
       "      <td>20.6</td>\n",
       "      <td>1</td>\n",
       "      <td>1</td>\n",
       "    </tr>\n",
       "    <tr>\n",
       "      <th>63019</th>\n",
       "      <td>3</td>\n",
       "      <td>3064</td>\n",
       "      <td>5833</td>\n",
       "      <td>20.6</td>\n",
       "      <td>1</td>\n",
       "      <td>1</td>\n",
       "    </tr>\n",
       "    <tr>\n",
       "      <th>63020</th>\n",
       "      <td>3</td>\n",
       "      <td>3064</td>\n",
       "      <td>5833</td>\n",
       "      <td>20.6</td>\n",
       "      <td>1</td>\n",
       "      <td>1</td>\n",
       "    </tr>\n",
       "  </tbody>\n",
       "</table>\n",
       "<p>48433 rows × 6 columns</p>\n",
       "</div>"
      ],
      "text/plain": [
       "       Rooms  Postcode  Propertycount  Distance  Type  Regionname\n",
       "0          3      3067           4019       3.0     1           1\n",
       "1          3      3067           4019       3.0     1           1\n",
       "2          3      3067           4019       3.0     1           1\n",
       "3          3      3040           1543       7.5     1           2\n",
       "4          2      3042           3464      10.4     1           2\n",
       "...      ...       ...            ...       ...   ...         ...\n",
       "63016      2      3199          17055      38.0     3           4\n",
       "63017      3      3072          14577       8.4     1           1\n",
       "63018      3      3064           5833      20.6     1           1\n",
       "63019      3      3064           5833      20.6     1           1\n",
       "63020      3      3064           5833      20.6     1           1\n",
       "\n",
       "[48433 rows x 6 columns]"
      ]
     },
     "execution_count": 19,
     "metadata": {},
     "output_type": "execute_result"
    }
   ],
   "source": [
    "x=df[['Rooms','Postcode','Propertycount','Distance','Type','Regionname']]\n",
    "x"
   ]
  },
  {
   "cell_type": "code",
   "execution_count": 20,
   "id": "7a7fff66",
   "metadata": {},
   "outputs": [
    {
     "data": {
      "text/plain": [
       "0        1490000.0\n",
       "1        1220000.0\n",
       "2        1420000.0\n",
       "3        1515000.0\n",
       "4         670000.0\n",
       "           ...    \n",
       "63016     347700.0\n",
       "63017     808000.0\n",
       "63018     566000.0\n",
       "63019     500000.0\n",
       "63020     545000.0\n",
       "Name: Price, Length: 48433, dtype: float64"
      ]
     },
     "execution_count": 20,
     "metadata": {},
     "output_type": "execute_result"
    }
   ],
   "source": [
    "y=df['Price']\n",
    "y"
   ]
  },
  {
   "cell_type": "markdown",
   "id": "8d3f6df5",
   "metadata": {},
   "source": [
    "# v. train  and test split"
   ]
  },
  {
   "cell_type": "code",
   "execution_count": 21,
   "id": "5da55cc0",
   "metadata": {},
   "outputs": [],
   "source": [
    "from sklearn.metrics import accuracy_score\n",
    "from sklearn.model_selection import train_test_split\n",
    "X_train,X_test,Y_train,Y_test = train_test_split(x,y,test_size=0.20)"
   ]
  },
  {
   "cell_type": "code",
   "execution_count": 22,
   "id": "b70968c6",
   "metadata": {},
   "outputs": [
    {
     "data": {
      "text/plain": [
       "(38746, 6)"
      ]
     },
     "execution_count": 22,
     "metadata": {},
     "output_type": "execute_result"
    }
   ],
   "source": [
    "X_train.shape"
   ]
  },
  {
   "cell_type": "code",
   "execution_count": 23,
   "id": "ac7e2713",
   "metadata": {},
   "outputs": [
    {
     "data": {
      "text/plain": [
       "(9687, 6)"
      ]
     },
     "execution_count": 23,
     "metadata": {},
     "output_type": "execute_result"
    }
   ],
   "source": [
    "X_test.shape"
   ]
  },
  {
   "cell_type": "code",
   "execution_count": 24,
   "id": "efc04dc3",
   "metadata": {},
   "outputs": [
    {
     "data": {
      "text/plain": [
       "(9687,)"
      ]
     },
     "execution_count": 24,
     "metadata": {},
     "output_type": "execute_result"
    }
   ],
   "source": [
    "#Y_test = np.array(Y_test).reshape(-1,1)\n",
    "Y_test.shape"
   ]
  },
  {
   "cell_type": "code",
   "execution_count": 25,
   "id": "b88ada75",
   "metadata": {},
   "outputs": [
    {
     "data": {
      "text/plain": [
       "(38746, 1)"
      ]
     },
     "execution_count": 25,
     "metadata": {},
     "output_type": "execute_result"
    }
   ],
   "source": [
    "Y_train = np.array(Y_train).reshape(-1,1)\n",
    "Y_train.shape"
   ]
  },
  {
   "cell_type": "code",
   "execution_count": 26,
   "id": "32aff8b4",
   "metadata": {},
   "outputs": [],
   "source": [
    "from sklearn.metrics import accuracy_score"
   ]
  },
  {
   "cell_type": "code",
   "execution_count": 27,
   "id": "9d777ae7",
   "metadata": {},
   "outputs": [],
   "source": [
    "scr_lst=[]"
   ]
  },
  {
   "cell_type": "markdown",
   "id": "fe6032c5",
   "metadata": {},
   "source": [
    "#  vi. Model fitting"
   ]
  },
  {
   "cell_type": "markdown",
   "id": "53b937f4",
   "metadata": {},
   "source": [
    "# Linear Regression"
   ]
  },
  {
   "cell_type": "code",
   "execution_count": 28,
   "id": "058f06af",
   "metadata": {},
   "outputs": [],
   "source": [
    "from sklearn.linear_model import LinearRegression  \n",
    "regressor= LinearRegression()  \n",
    "regressor.fit(X_train, Y_train)  \n",
    "y_pred= regressor.predict(X_test)  \n",
    "y_pred = np.array(y_pred).reshape(-1,1)"
   ]
  },
  {
   "cell_type": "code",
   "execution_count": 29,
   "id": "88cd8b2c",
   "metadata": {},
   "outputs": [
    {
     "name": "stdout",
     "output_type": "stream",
     "text": [
      "0.431682144233835\n"
     ]
    }
   ],
   "source": [
    "scr=regressor.score(X_test,Y_test)\n",
    "scr_lst.append(scr)\n",
    "print(scr)"
   ]
  },
  {
   "cell_type": "markdown",
   "id": "29ec4d7a",
   "metadata": {},
   "source": [
    "# Navie Bayes"
   ]
  },
  {
   "cell_type": "code",
   "execution_count": 30,
   "id": "0ba8ee42",
   "metadata": {},
   "outputs": [],
   "source": [
    "from sklearn.naive_bayes import GaussianNB\n",
    "\n",
    "nb = GaussianNB()\n",
    "\n",
    "nb.fit(X_train,Y_train)\n",
    "\n",
    "Y_pred_nb = nb.predict(X_test)\n",
    "Y_pred_nb= np.array(Y_pred_nb).reshape(-1,1)"
   ]
  },
  {
   "cell_type": "code",
   "execution_count": 31,
   "id": "1653c143",
   "metadata": {},
   "outputs": [
    {
     "name": "stdout",
     "output_type": "stream",
     "text": [
      "0.002684009497264375\n"
     ]
    }
   ],
   "source": [
    "scr=nb.score(X_test,Y_test)\n",
    "scr_lst.append(scr)\n",
    "print(scr)"
   ]
  },
  {
   "cell_type": "markdown",
   "id": "5b207066",
   "metadata": {},
   "source": [
    "# Desion Tree Classifier"
   ]
  },
  {
   "cell_type": "code",
   "execution_count": 32,
   "id": "05fd998c",
   "metadata": {},
   "outputs": [
    {
     "name": "stdout",
     "output_type": "stream",
     "text": [
      "0.04211830288014865 0\n"
     ]
    }
   ],
   "source": [
    "from sklearn.tree import DecisionTreeClassifier\n",
    "mx_scr=0\n",
    "mx_i=0\n",
    "lst=[]\n",
    "for i in range(20):\n",
    "    dt = DecisionTreeClassifier(random_state=i)\n",
    "    dt.fit(X_train,Y_train)\n",
    "    Y_pred_dt = dt.predict(X_test)\n",
    "    scr=dt.score(X_test, Y_test)\n",
    "    lst.append(scr)\n",
    "    if(mx_scr<scr):\n",
    "        mx_scr=scr\n",
    "        mx_i=i\n",
    "scr_lst.append(mx_scr)\n",
    "print(mx_scr,mx_i)"
   ]
  },
  {
   "cell_type": "code",
   "execution_count": 33,
   "id": "bddb8cbe",
   "metadata": {},
   "outputs": [
    {
     "data": {
      "image/png": "[encoded data removed]",
      "text/plain": [
       "<Figure size 640x480 with 1 Axes>"
      ]
     },
     "metadata": {},
     "output_type": "display_data"
    }
   ],
   "source": [
    "plt.scatter([i for i in range(1,21)],lst)\n",
    "plt.show()"
   ]
  },
  {
   "cell_type": "markdown",
   "id": "6454e09f",
   "metadata": {},
   "source": [
    "# Random Forest Regressor"
   ]
  },
  {
   "cell_type": "code",
   "execution_count": 34,
   "id": "6e04b00e",
   "metadata": {},
   "outputs": [
    {
     "name": "stdout",
     "output_type": "stream",
     "text": [
      "0.7501116089651014 12\n"
     ]
    }
   ],
   "source": [
    "from sklearn.ensemble import RandomForestRegressor\n",
    "mx_scr=0\n",
    "mx_i=0\n",
    "lst=[]\n",
    "for i in range(1,21):\n",
    "    rfr = RandomForestRegressor(n_estimators=i)\n",
    "    rfr.fit(X_train, Y_train)\n",
    "    Y_pred = rfr.predict(X_train)\n",
    "    scr=rfr.score(X_test, Y_test)\n",
    "    lst.append(scr)\n",
    "    if(mx_scr<scr):\n",
    "        mx_scr=scr\n",
    "        mx_i=i\n",
    "scr_lst.append(mx_scr)\n",
    "print(mx_scr,mx_i)"
   ]
  },
  {
   "cell_type": "code",
   "execution_count": 35,
   "id": "aad0b7f6",
   "metadata": {},
   "outputs": [
    {
     "data": {
      "image/png": "[encoded data removed]",
      "text/plain": [
       "<Figure size 640x480 with 1 Axes>"
      ]
     },
     "metadata": {},
     "output_type": "display_data"
    }
   ],
   "source": [
    "plt.scatter([i for i in range(1,21)],lst)\n",
    "plt.show()"
   ]
  },
  {
   "cell_type": "markdown",
   "id": "37696dcb",
   "metadata": {},
   "source": [
    "# K Neighbour Classification"
   ]
  },
  {
   "cell_type": "code",
   "execution_count": 36,
   "id": "2ebf55cc",
   "metadata": {},
   "outputs": [
    {
     "name": "stdout",
     "output_type": "stream",
     "text": [
      "0.7487187517522846 1\n"
     ]
    }
   ],
   "source": [
    "from sklearn.neighbors import KNeighborsClassifier\n",
    "\n",
    "mx_scr=0\n",
    "mx_i=0\n",
    "lst=[]\n",
    "for i in range(1,21):\n",
    "    knn = KNeighborsClassifier(n_neighbors=i)\n",
    "    knn.fit(X_train,Y_train)\n",
    "    Y_pred_knn=knn.predict(X_test)\n",
    "    scr=rfr.score(X_test, Y_test)\n",
    "    lst.append(scr)\n",
    "    if(mx_scr<scr):\n",
    "        mx_scr=scr\n",
    "        mx_i=i\n",
    "scr_lst.append(mx_scr)\n",
    "print(mx_scr,mx_i)"
   ]
  },
  {
   "cell_type": "code",
   "execution_count": 37,
   "id": "bfdf43ed",
   "metadata": {},
   "outputs": [
    {
     "data": {
      "image/png": "[encoded data removed]",
      "text/plain": [
       "<Figure size 640x480 with 1 Axes>"
      ]
     },
     "metadata": {},
     "output_type": "display_data"
    }
   ],
   "source": [
    "plt.scatter([i for i in range(1,21)],lst)\n",
    "plt.show()"
   ]
  },
  {
   "cell_type": "markdown",
   "id": "5f7ab7df",
   "metadata": {},
   "source": [
    "# ML Model comperesion"
   ]
  },
  {
   "cell_type": "code",
   "execution_count": 38,
   "id": "d8842263",
   "metadata": {},
   "outputs": [
    {
     "data": {
      "text/plain": [
       "[0.431682144233835,\n",
       " 0.002684009497264375,\n",
       " 0.04211830288014865,\n",
       " 0.7501116089651014,\n",
       " 0.7487187517522846]"
      ]
     },
     "execution_count": 38,
     "metadata": {},
     "output_type": "execute_result"
    }
   ],
   "source": [
    "scr_lst"
   ]
  },
  {
   "cell_type": "code",
   "execution_count": 39,
   "id": "0b21440a",
   "metadata": {},
   "outputs": [],
   "source": [
    "ml_lst=['LR','NB','DT','RF','KNN']"
   ]
  },
  {
   "cell_type": "code",
   "execution_count": 40,
   "id": "5301468e",
   "metadata": {},
   "outputs": [
    {
     "data": {
      "text/plain": [
       "<AxesSubplot:xlabel='Algorithms', ylabel='Accuracy score'>"
      ]
     },
     "execution_count": 40,
     "metadata": {},
     "output_type": "execute_result"
    },
    {
     "data": {
      "image/png": "[encoded data removed]",
      "text/plain": [
       "<Figure size 1500x800 with 1 Axes>"
      ]
     },
     "metadata": {},
     "output_type": "display_data"
    }
   ],
   "source": [
    "sns.set(rc={'figure.figsize':(15,8)})\n",
    "plt.xlabel(\"Algorithms\")\n",
    "plt.ylabel(\"Accuracy score\")\n",
    "\n",
    "sns.barplot(ml_lst,scr_lst)"
   ]
  },
  {
   "cell_type": "markdown",
   "id": "3d53db41",
   "metadata": {},
   "source": [
    "# It is seen that knn and random forest are best in this"
   ]
  }
 ],
 "metadata": {
  "kernelspec": {
   "display_name": "Python 3 (ipykernel)",
   "language": "python",
   "name": "python3"
  },
  "language_info": {
   "codemirror_mode": {
    "name": "ipython",
    "version": 3
   },
   "file_extension": ".py",
   "mimetype": "text/x-python",
   "name": "python",
   "nbconvert_exporter": "python",
   "pygments_lexer": "ipython3",
   "version": "3.9.13"
  }
 },
 "nbformat": 4,
 "nbformat_minor": 5
}
